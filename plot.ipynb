{
 "cells": [
  {
   "cell_type": "code",
   "execution_count": 64,
   "id": "1cfd59b6",
   "metadata": {},
   "outputs": [],
   "source": [
    "import pandas as pd\n",
    "import plotly.express as px\n"
   ]
  },
  {
   "cell_type": "code",
   "execution_count": 71,
   "id": "def4b84e",
   "metadata": {},
   "outputs": [],
   "source": [
    "response = requests.get(\"https://covid19-mohfw.herokuapp.com/\")"
   ]
  },
  {
   "cell_type": "code",
   "execution_count": 68,
   "id": "63bf5918",
   "metadata": {},
   "outputs": [
    {
     "data": {
      "application/vnd.plotly.v1+json": {
       "config": {
        "plotlyServerURL": "https://plot.ly"
       },
       "data": [
        {
         "hovertemplate": "state=Andaman and Nicobar Islands<br>deaths=%{marker.size}<br>cases=%{y}<extra></extra>",
         "legendgroup": "Andaman and Nicobar Islands",
         "marker": {
          "color": "#636efa",
          "size": [
           129
          ],
          "sizemode": "area",
          "sizeref": 41.15777777777778,
          "symbol": "circle"
         },
         "mode": "markers",
         "name": "Andaman and Nicobar Islands",
         "orientation": "v",
         "showlegend": true,
         "type": "scatter",
         "x": [
          129
         ],
         "xaxis": "x",
         "y": [
          24
         ],
         "yaxis": "y"
        },
        {
         "hovertemplate": "state=Andhra Pradesh<br>deaths=%{marker.size}<br>cases=%{y}<extra></extra>",
         "legendgroup": "Andhra Pradesh",
         "marker": {
          "color": "#EF553B",
          "size": [
           14733
          ],
          "sizemode": "area",
          "sizeref": 41.15777777777778,
          "symbol": "circle"
         },
         "mode": "markers",
         "name": "Andhra Pradesh",
         "orientation": "v",
         "showlegend": true,
         "type": "scatter",
         "x": [
          14733
         ],
         "xaxis": "x",
         "y": [
          1199
         ],
         "yaxis": "y"
        },
        {
         "hovertemplate": "state=Arunachal Pradesh<br>deaths=%{marker.size}<br>cases=%{y}<extra></extra>",
         "legendgroup": "Arunachal Pradesh",
         "marker": {
          "color": "#00cc96",
          "size": [
           296
          ],
          "sizemode": "area",
          "sizeref": 41.15777777777778,
          "symbol": "circle"
         },
         "mode": "markers",
         "name": "Arunachal Pradesh",
         "orientation": "v",
         "showlegend": true,
         "type": "scatter",
         "x": [
          296
         ],
         "xaxis": "x",
         "y": [
          196
         ],
         "yaxis": "y"
        },
        {
         "hovertemplate": "state=Assam<br>deaths=%{marker.size}<br>cases=%{y}<extra></extra>",
         "legendgroup": "Assam",
         "marker": {
          "color": "#ab63fa",
          "size": [
           8026
          ],
          "sizemode": "area",
          "sizeref": 41.15777777777778,
          "symbol": "circle"
         },
         "mode": "markers",
         "name": "Assam",
         "orientation": "v",
         "showlegend": true,
         "type": "scatter",
         "x": [
          8026
         ],
         "xaxis": "x",
         "y": [
          3359
         ],
         "yaxis": "y"
        },
        {
         "hovertemplate": "state=Bihar<br>deaths=%{marker.size}<br>cases=%{y}<extra></extra>",
         "legendgroup": "Bihar",
         "marker": {
          "color": "#FFA15A",
          "size": [
           12287
          ],
          "sizemode": "area",
          "sizeref": 41.15777777777778,
          "symbol": "circle"
         },
         "mode": "markers",
         "name": "Bihar",
         "orientation": "v",
         "showlegend": true,
         "type": "scatter",
         "x": [
          12287
         ],
         "xaxis": "x",
         "y": [
          789
         ],
         "yaxis": "y"
        },
        {
         "hovertemplate": "state=Chandigarh<br>deaths=%{marker.size}<br>cases=%{y}<extra></extra>",
         "legendgroup": "Chandigarh",
         "marker": {
          "color": "#19d3f3",
          "size": [
           1174
          ],
          "sizemode": "area",
          "sizeref": 41.15777777777778,
          "symbol": "circle"
         },
         "mode": "markers",
         "name": "Chandigarh",
         "orientation": "v",
         "showlegend": true,
         "type": "scatter",
         "x": [
          1174
         ],
         "xaxis": "x",
         "y": [
          645
         ],
         "yaxis": "y"
        },
        {
         "hovertemplate": "state=Chhattisgarh<br>deaths=%{marker.size}<br>cases=%{y}<extra></extra>",
         "legendgroup": "Chhattisgarh",
         "marker": {
          "color": "#FF6692",
          "size": [
           14088
          ],
          "sizemode": "area",
          "sizeref": 41.15777777777778,
          "symbol": "circle"
         },
         "mode": "markers",
         "name": "Chhattisgarh",
         "orientation": "v",
         "showlegend": true,
         "type": "scatter",
         "x": [
          14088
         ],
         "xaxis": "x",
         "y": [
          2000
         ],
         "yaxis": "y"
        },
        {
         "hovertemplate": "state=Dadra and Nagar Haveli and Daman and Diu<br>deaths=%{marker.size}<br>cases=%{y}<extra></extra>",
         "legendgroup": "Dadra and Nagar Haveli and Daman and Diu",
         "marker": {
          "color": "#B6E880",
          "size": [
           4
          ],
          "sizemode": "area",
          "sizeref": 41.15777777777778,
          "symbol": "circle"
         },
         "mode": "markers",
         "name": "Dadra and Nagar Haveli and Daman and Diu",
         "orientation": "v",
         "showlegend": true,
         "type": "scatter",
         "x": [
          4
         ],
         "xaxis": "x",
         "y": [
          9
         ],
         "yaxis": "y"
        },
        {
         "hovertemplate": "state=Delhi<br>deaths=%{marker.size}<br>cases=%{y}<extra></extra>",
         "legendgroup": "Delhi",
         "marker": {
          "color": "#FF97FF",
          "size": [
           26376
          ],
          "sizemode": "area",
          "sizeref": 41.15777777777778,
          "symbol": "circle"
         },
         "mode": "markers",
         "name": "Delhi",
         "orientation": "v",
         "showlegend": true,
         "type": "scatter",
         "x": [
          26376
         ],
         "xaxis": "x",
         "y": [
          8105
         ],
         "yaxis": "y"
        },
        {
         "hovertemplate": "state=Goa*<br>deaths=%{marker.size}<br>cases=%{y}<extra></extra>",
         "legendgroup": "Goa*",
         "marker": {
          "color": "#FECB52",
          "size": [
           3855
          ],
          "sizemode": "area",
          "sizeref": 41.15777777777778,
          "symbol": "circle"
         },
         "mode": "markers",
         "name": "Goa*",
         "orientation": "v",
         "showlegend": true,
         "type": "scatter",
         "x": [
          3855
         ],
         "xaxis": "x",
         "y": [
          1047
         ],
         "yaxis": "y"
        },
        {
         "hovertemplate": "state=Gujarat<br>deaths=%{marker.size}<br>cases=%{y}<extra></extra>",
         "legendgroup": "Gujarat",
         "marker": {
          "color": "#636efa",
          "size": [
           10990
          ],
          "sizemode": "area",
          "sizeref": 41.15777777777778,
          "symbol": "circle"
         },
         "mode": "markers",
         "name": "Gujarat",
         "orientation": "v",
         "showlegend": true,
         "type": "scatter",
         "x": [
          10990
         ],
         "xaxis": "x",
         "y": [
          4205
         ],
         "yaxis": "y"
        },
        {
         "hovertemplate": "state=Haryana<br>deaths=%{marker.size}<br>cases=%{y}<extra></extra>",
         "legendgroup": "Haryana",
         "marker": {
          "color": "#EF553B",
          "size": [
           10654
          ],
          "sizemode": "area",
          "sizeref": 41.15777777777778,
          "symbol": "circle"
         },
         "mode": "markers",
         "name": "Haryana",
         "orientation": "v",
         "showlegend": true,
         "type": "scatter",
         "x": [
          10654
         ],
         "xaxis": "x",
         "y": [
          4973
         ],
         "yaxis": "y"
        },
        {
         "hovertemplate": "state=Himachal Pradesh<br>deaths=%{marker.size}<br>cases=%{y}<extra></extra>",
         "legendgroup": "Himachal Pradesh",
         "marker": {
          "color": "#00cc96",
          "size": [
           4183
          ],
          "sizemode": "area",
          "sizeref": 41.15777777777778,
          "symbol": "circle"
         },
         "mode": "markers",
         "name": "Himachal Pradesh",
         "orientation": "v",
         "showlegend": true,
         "type": "scatter",
         "x": [
          4183
         ],
         "xaxis": "x",
         "y": [
          3024
         ],
         "yaxis": "y"
        },
        {
         "hovertemplate": "state=Jammu and Kashmir<br>deaths=%{marker.size}<br>cases=%{y}<extra></extra>",
         "legendgroup": "Jammu and Kashmir",
         "marker": {
          "color": "#ab63fa",
          "size": [
           4777
          ],
          "sizemode": "area",
          "sizeref": 41.15777777777778,
          "symbol": "circle"
         },
         "mode": "markers",
         "name": "Jammu and Kashmir",
         "orientation": "v",
         "showlegend": true,
         "type": "scatter",
         "x": [
          4777
         ],
         "xaxis": "x",
         "y": [
          4579
         ],
         "yaxis": "y"
        },
        {
         "hovertemplate": "state=Jharkhand<br>deaths=%{marker.size}<br>cases=%{y}<extra></extra>",
         "legendgroup": "Jharkhand",
         "marker": {
          "color": "#FFA15A",
          "size": [
           5330
          ],
          "sizemode": "area",
          "sizeref": 41.15777777777778,
          "symbol": "circle"
         },
         "mode": "markers",
         "name": "Jharkhand",
         "orientation": "v",
         "showlegend": true,
         "type": "scatter",
         "x": [
          5330
         ],
         "xaxis": "x",
         "y": [
          556
         ],
         "yaxis": "y"
        },
        {
         "hovertemplate": "state=Karnataka<br>deaths=%{marker.size}<br>cases=%{y}<extra></extra>",
         "legendgroup": "Karnataka",
         "marker": {
          "color": "#19d3f3",
          "size": [
           40186
          ],
          "sizemode": "area",
          "sizeref": 41.15777777777778,
          "symbol": "circle"
         },
         "mode": "markers",
         "name": "Karnataka",
         "orientation": "v",
         "showlegend": true,
         "type": "scatter",
         "x": [
          40186
         ],
         "xaxis": "x",
         "y": [
          10105
         ],
         "yaxis": "y"
        },
        {
         "hovertemplate": "state=Kerala***<br>deaths=%{marker.size}<br>cases=%{y}<extra></extra>",
         "legendgroup": "Kerala***",
         "marker": {
          "color": "#FF6692",
          "size": [
           70642
          ],
          "sizemode": "area",
          "sizeref": 41.15777777777778,
          "symbol": "circle"
         },
         "mode": "markers",
         "name": "Kerala***",
         "orientation": "v",
         "showlegend": true,
         "type": "scatter",
         "x": [
          70642
         ],
         "xaxis": "x",
         "y": [
          9173
         ],
         "yaxis": "y"
        },
        {
         "hovertemplate": "state=Ladakh<br>deaths=%{marker.size}<br>cases=%{y}<extra></extra>",
         "legendgroup": "Ladakh",
         "marker": {
          "color": "#B6E880",
          "size": [
           228
          ],
          "sizemode": "area",
          "sizeref": 41.15777777777778,
          "symbol": "circle"
         },
         "mode": "markers",
         "name": "Ladakh",
         "orientation": "v",
         "showlegend": true,
         "type": "scatter",
         "x": [
          228
         ],
         "xaxis": "x",
         "y": [
          91
         ],
         "yaxis": "y"
        },
        {
         "hovertemplate": "state=Lakshadweep<br>deaths=%{marker.size}<br>cases=%{y}<extra></extra>",
         "legendgroup": "Lakshadweep",
         "marker": {
          "color": "#FF97FF",
          "size": [
           52
          ],
          "sizemode": "area",
          "sizeref": 41.15777777777778,
          "symbol": "circle"
         },
         "mode": "markers",
         "name": "Lakshadweep",
         "orientation": "v",
         "showlegend": true,
         "type": "scatter",
         "x": [
          52
         ],
         "xaxis": "x",
         "y": [
          0
         ],
         "yaxis": "y"
        },
        {
         "hovertemplate": "state=Madhya Pradesh<br>deaths=%{marker.size}<br>cases=%{y}<extra></extra>",
         "legendgroup": "Madhya Pradesh",
         "marker": {
          "color": "#FECB52",
          "size": [
           10763
          ],
          "sizemode": "area",
          "sizeref": 41.15777777777778,
          "symbol": "circle"
         },
         "mode": "markers",
         "name": "Madhya Pradesh",
         "orientation": "v",
         "showlegend": true,
         "type": "scatter",
         "x": [
          10763
         ],
         "xaxis": "x",
         "y": [
          952
         ],
         "yaxis": "y"
        },
        {
         "hovertemplate": "state=Maharashtra<br>deaths=%{marker.size}<br>cases=%{y}<extra></extra>",
         "legendgroup": "Maharashtra",
         "marker": {
          "color": "#636efa",
          "size": [
           148168
          ],
          "sizemode": "area",
          "sizeref": 41.15777777777778,
          "symbol": "circle"
         },
         "mode": "markers",
         "name": "Maharashtra",
         "orientation": "v",
         "showlegend": true,
         "type": "scatter",
         "x": [
          148168
         ],
         "xaxis": "x",
         "y": [
          11847
         ],
         "yaxis": "y"
        },
        {
         "hovertemplate": "state=Manipur<br>deaths=%{marker.size}<br>cases=%{y}<extra></extra>",
         "legendgroup": "Manipur",
         "marker": {
          "color": "#EF553B",
          "size": [
           2143
          ],
          "sizemode": "area",
          "sizeref": 41.15777777777778,
          "symbol": "circle"
         },
         "mode": "markers",
         "name": "Manipur",
         "orientation": "v",
         "showlegend": true,
         "type": "scatter",
         "x": [
          2143
         ],
         "xaxis": "x",
         "y": [
          183
         ],
         "yaxis": "y"
        },
        {
         "hovertemplate": "state=Meghalaya<br>deaths=%{marker.size}<br>cases=%{y}<extra></extra>",
         "legendgroup": "Meghalaya",
         "marker": {
          "color": "#00cc96",
          "size": [
           1613
          ],
          "sizemode": "area",
          "sizeref": 41.15777777777778,
          "symbol": "circle"
         },
         "mode": "markers",
         "name": "Meghalaya",
         "orientation": "v",
         "showlegend": true,
         "type": "scatter",
         "x": [
          1613
         ],
         "xaxis": "x",
         "y": [
          510
         ],
         "yaxis": "y"
        },
        {
         "hovertemplate": "state=Mizoram<br>deaths=%{marker.size}<br>cases=%{y}<extra></extra>",
         "legendgroup": "Mizoram",
         "marker": {
          "color": "#ab63fa",
          "size": [
           717
          ],
          "sizemode": "area",
          "sizeref": 41.15777777777778,
          "symbol": "circle"
         },
         "mode": "markers",
         "name": "Mizoram",
         "orientation": "v",
         "showlegend": true,
         "type": "scatter",
         "x": [
          717
         ],
         "xaxis": "x",
         "y": [
          976
         ],
         "yaxis": "y"
        },
        {
         "hovertemplate": "state=Nagaland<br>deaths=%{marker.size}<br>cases=%{y}<extra></extra>",
         "legendgroup": "Nagaland",
         "marker": {
          "color": "#FFA15A",
          "size": [
           773
          ],
          "sizemode": "area",
          "sizeref": 41.15777777777778,
          "symbol": "circle"
         },
         "mode": "markers",
         "name": "Nagaland",
         "orientation": "v",
         "showlegend": true,
         "type": "scatter",
         "x": [
          773
         ],
         "xaxis": "x",
         "y": [
          41
         ],
         "yaxis": "y"
        },
        {
         "hovertemplate": "state=Odisha<br>deaths=%{marker.size}<br>cases=%{y}<extra></extra>",
         "legendgroup": "Odisha",
         "marker": {
          "color": "#19d3f3",
          "size": [
           9154
          ],
          "sizemode": "area",
          "sizeref": 41.15777777777778,
          "symbol": "circle"
         },
         "mode": "markers",
         "name": "Odisha",
         "orientation": "v",
         "showlegend": true,
         "type": "scatter",
         "x": [
          9154
         ],
         "xaxis": "x",
         "y": [
          4019
         ],
         "yaxis": "y"
        },
        {
         "hovertemplate": "state=Puducherry<br>deaths=%{marker.size}<br>cases=%{y}<extra></extra>",
         "legendgroup": "Puducherry",
         "marker": {
          "color": "#FF6692",
          "size": [
           1967
          ],
          "sizemode": "area",
          "sizeref": 41.15777777777778,
          "symbol": "circle"
         },
         "mode": "markers",
         "name": "Puducherry",
         "orientation": "v",
         "showlegend": true,
         "type": "scatter",
         "x": [
          1967
         ],
         "xaxis": "x",
         "y": [
          454
         ],
         "yaxis": "y"
        },
        {
         "hovertemplate": "state=Punjab**<br>deaths=%{marker.size}<br>cases=%{y}<extra></extra>",
         "legendgroup": "Punjab**",
         "marker": {
          "color": "#B6E880",
          "size": [
           17851
          ],
          "sizemode": "area",
          "sizeref": 41.15777777777778,
          "symbol": "circle"
         },
         "mode": "markers",
         "name": "Punjab**",
         "orientation": "v",
         "showlegend": true,
         "type": "scatter",
         "x": [
          17851
         ],
         "xaxis": "x",
         "y": [
          14213
         ],
         "yaxis": "y"
        },
        {
         "hovertemplate": "state=Rajasthan<br>deaths=%{marker.size}<br>cases=%{y}<extra></extra>",
         "legendgroup": "Rajasthan",
         "marker": {
          "color": "#FF97FF",
          "size": [
           9593
          ],
          "sizemode": "area",
          "sizeref": 41.15777777777778,
          "symbol": "circle"
         },
         "mode": "markers",
         "name": "Rajasthan",
         "orientation": "v",
         "showlegend": true,
         "type": "scatter",
         "x": [
          9593
         ],
         "xaxis": "x",
         "y": [
          4299
         ],
         "yaxis": "y"
        },
        {
         "hovertemplate": "state=Sikkim<br>deaths=%{marker.size}<br>cases=%{y}<extra></extra>",
         "legendgroup": "Sikkim",
         "marker": {
          "color": "#FECB52",
          "size": [
           479
          ],
          "sizemode": "area",
          "sizeref": 41.15777777777778,
          "symbol": "circle"
         },
         "mode": "markers",
         "name": "Sikkim",
         "orientation": "v",
         "showlegend": true,
         "type": "scatter",
         "x": [
          479
         ],
         "xaxis": "x",
         "y": [
          317
         ],
         "yaxis": "y"
        },
        {
         "hovertemplate": "state=Tamil Nadu<br>deaths=%{marker.size}<br>cases=%{y}<extra></extra>",
         "legendgroup": "Tamil Nadu",
         "marker": {
          "color": "#636efa",
          "size": [
           38033
          ],
          "sizemode": "area",
          "sizeref": 41.15777777777778,
          "symbol": "circle"
         },
         "mode": "markers",
         "name": "Tamil Nadu",
         "orientation": "v",
         "showlegend": true,
         "type": "scatter",
         "x": [
          38033
         ],
         "xaxis": "x",
         "y": [
          7680
         ],
         "yaxis": "y"
        },
        {
         "hovertemplate": "state=Telangana<br>deaths=%{marker.size}<br>cases=%{y}<extra></extra>",
         "legendgroup": "Telangana",
         "marker": {
          "color": "#EF553B",
          "size": [
           4111
          ],
          "sizemode": "area",
          "sizeref": 41.15777777777778,
          "symbol": "circle"
         },
         "mode": "markers",
         "name": "Telangana",
         "orientation": "v",
         "showlegend": true,
         "type": "scatter",
         "x": [
          4111
         ],
         "xaxis": "x",
         "y": [
          3551
         ],
         "yaxis": "y"
        },
        {
         "hovertemplate": "state=Tripura<br>deaths=%{marker.size}<br>cases=%{y}<extra></extra>",
         "legendgroup": "Tripura",
         "marker": {
          "color": "#00cc96",
          "size": [
           937
          ],
          "sizemode": "area",
          "sizeref": 41.15777777777778,
          "symbol": "circle"
         },
         "mode": "markers",
         "name": "Tripura",
         "orientation": "v",
         "showlegend": true,
         "type": "scatter",
         "x": [
          937
         ],
         "xaxis": "x",
         "y": [
          250
         ],
         "yaxis": "y"
        },
        {
         "hovertemplate": "state=Uttar Pradesh<br>deaths=%{marker.size}<br>cases=%{y}<extra></extra>",
         "legendgroup": "Uttar Pradesh",
         "marker": {
          "color": "#ab63fa",
          "size": [
           23583
          ],
          "sizemode": "area",
          "sizeref": 41.15777777777778,
          "symbol": "circle"
         },
         "mode": "markers",
         "name": "Uttar Pradesh",
         "orientation": "v",
         "showlegend": true,
         "type": "scatter",
         "x": [
          23583
         ],
         "xaxis": "x",
         "y": [
          5632
         ],
         "yaxis": "y"
        },
        {
         "hovertemplate": "state=Uttarakhand<br>deaths=%{marker.size}<br>cases=%{y}<extra></extra>",
         "legendgroup": "Uttarakhand",
         "marker": {
          "color": "#FFA15A",
          "size": [
           7726
          ],
          "sizemode": "area",
          "sizeref": 41.15777777777778,
          "symbol": "circle"
         },
         "mode": "markers",
         "name": "Uttarakhand",
         "orientation": "v",
         "showlegend": true,
         "type": "scatter",
         "x": [
          7726
         ],
         "xaxis": "x",
         "y": [
          1974
         ],
         "yaxis": "y"
        },
        {
         "hovertemplate": "state=West Bengal<br>deaths=%{marker.size}<br>cases=%{y}<extra></extra>",
         "legendgroup": "West Bengal",
         "marker": {
          "color": "#19d3f3",
          "size": [
           21420
          ],
          "sizemode": "area",
          "sizeref": 41.15777777777778,
          "symbol": "circle"
         },
         "mode": "markers",
         "name": "West Bengal",
         "orientation": "v",
         "showlegend": true,
         "type": "scatter",
         "x": [
          21420
         ],
         "xaxis": "x",
         "y": [
          5884
         ],
         "yaxis": "y"
        }
       ],
       "layout": {
        "legend": {
         "itemsizing": "constant",
         "title": {
          "text": "state"
         },
         "tracegroupgap": 0
        },
        "margin": {
         "t": 60
        },
        "template": {
         "data": {
          "bar": [
           {
            "error_x": {
             "color": "#2a3f5f"
            },
            "error_y": {
             "color": "#2a3f5f"
            },
            "marker": {
             "line": {
              "color": "#E5ECF6",
              "width": 0.5
             },
             "pattern": {
              "fillmode": "overlay",
              "size": 10,
              "solidity": 0.2
             }
            },
            "type": "bar"
           }
          ],
          "barpolar": [
           {
            "marker": {
             "line": {
              "color": "#E5ECF6",
              "width": 0.5
             },
             "pattern": {
              "fillmode": "overlay",
              "size": 10,
              "solidity": 0.2
             }
            },
            "type": "barpolar"
           }
          ],
          "carpet": [
           {
            "aaxis": {
             "endlinecolor": "#2a3f5f",
             "gridcolor": "white",
             "linecolor": "white",
             "minorgridcolor": "white",
             "startlinecolor": "#2a3f5f"
            },
            "baxis": {
             "endlinecolor": "#2a3f5f",
             "gridcolor": "white",
             "linecolor": "white",
             "minorgridcolor": "white",
             "startlinecolor": "#2a3f5f"
            },
            "type": "carpet"
           }
          ],
          "choropleth": [
           {
            "colorbar": {
             "outlinewidth": 0,
             "ticks": ""
            },
            "type": "choropleth"
           }
          ],
          "contour": [
           {
            "colorbar": {
             "outlinewidth": 0,
             "ticks": ""
            },
            "colorscale": [
             [
              0,
              "#0d0887"
             ],
             [
              0.1111111111111111,
              "#46039f"
             ],
             [
              0.2222222222222222,
              "#7201a8"
             ],
             [
              0.3333333333333333,
              "#9c179e"
             ],
             [
              0.4444444444444444,
              "#bd3786"
             ],
             [
              0.5555555555555556,
              "#d8576b"
             ],
             [
              0.6666666666666666,
              "#ed7953"
             ],
             [
              0.7777777777777778,
              "#fb9f3a"
             ],
             [
              0.8888888888888888,
              "#fdca26"
             ],
             [
              1,
              "#f0f921"
             ]
            ],
            "type": "contour"
           }
          ],
          "contourcarpet": [
           {
            "colorbar": {
             "outlinewidth": 0,
             "ticks": ""
            },
            "type": "contourcarpet"
           }
          ],
          "heatmap": [
           {
            "colorbar": {
             "outlinewidth": 0,
             "ticks": ""
            },
            "colorscale": [
             [
              0,
              "#0d0887"
             ],
             [
              0.1111111111111111,
              "#46039f"
             ],
             [
              0.2222222222222222,
              "#7201a8"
             ],
             [
              0.3333333333333333,
              "#9c179e"
             ],
             [
              0.4444444444444444,
              "#bd3786"
             ],
             [
              0.5555555555555556,
              "#d8576b"
             ],
             [
              0.6666666666666666,
              "#ed7953"
             ],
             [
              0.7777777777777778,
              "#fb9f3a"
             ],
             [
              0.8888888888888888,
              "#fdca26"
             ],
             [
              1,
              "#f0f921"
             ]
            ],
            "type": "heatmap"
           }
          ],
          "heatmapgl": [
           {
            "colorbar": {
             "outlinewidth": 0,
             "ticks": ""
            },
            "colorscale": [
             [
              0,
              "#0d0887"
             ],
             [
              0.1111111111111111,
              "#46039f"
             ],
             [
              0.2222222222222222,
              "#7201a8"
             ],
             [
              0.3333333333333333,
              "#9c179e"
             ],
             [
              0.4444444444444444,
              "#bd3786"
             ],
             [
              0.5555555555555556,
              "#d8576b"
             ],
             [
              0.6666666666666666,
              "#ed7953"
             ],
             [
              0.7777777777777778,
              "#fb9f3a"
             ],
             [
              0.8888888888888888,
              "#fdca26"
             ],
             [
              1,
              "#f0f921"
             ]
            ],
            "type": "heatmapgl"
           }
          ],
          "histogram": [
           {
            "marker": {
             "pattern": {
              "fillmode": "overlay",
              "size": 10,
              "solidity": 0.2
             }
            },
            "type": "histogram"
           }
          ],
          "histogram2d": [
           {
            "colorbar": {
             "outlinewidth": 0,
             "ticks": ""
            },
            "colorscale": [
             [
              0,
              "#0d0887"
             ],
             [
              0.1111111111111111,
              "#46039f"
             ],
             [
              0.2222222222222222,
              "#7201a8"
             ],
             [
              0.3333333333333333,
              "#9c179e"
             ],
             [
              0.4444444444444444,
              "#bd3786"
             ],
             [
              0.5555555555555556,
              "#d8576b"
             ],
             [
              0.6666666666666666,
              "#ed7953"
             ],
             [
              0.7777777777777778,
              "#fb9f3a"
             ],
             [
              0.8888888888888888,
              "#fdca26"
             ],
             [
              1,
              "#f0f921"
             ]
            ],
            "type": "histogram2d"
           }
          ],
          "histogram2dcontour": [
           {
            "colorbar": {
             "outlinewidth": 0,
             "ticks": ""
            },
            "colorscale": [
             [
              0,
              "#0d0887"
             ],
             [
              0.1111111111111111,
              "#46039f"
             ],
             [
              0.2222222222222222,
              "#7201a8"
             ],
             [
              0.3333333333333333,
              "#9c179e"
             ],
             [
              0.4444444444444444,
              "#bd3786"
             ],
             [
              0.5555555555555556,
              "#d8576b"
             ],
             [
              0.6666666666666666,
              "#ed7953"
             ],
             [
              0.7777777777777778,
              "#fb9f3a"
             ],
             [
              0.8888888888888888,
              "#fdca26"
             ],
             [
              1,
              "#f0f921"
             ]
            ],
            "type": "histogram2dcontour"
           }
          ],
          "mesh3d": [
           {
            "colorbar": {
             "outlinewidth": 0,
             "ticks": ""
            },
            "type": "mesh3d"
           }
          ],
          "parcoords": [
           {
            "line": {
             "colorbar": {
              "outlinewidth": 0,
              "ticks": ""
             }
            },
            "type": "parcoords"
           }
          ],
          "pie": [
           {
            "automargin": true,
            "type": "pie"
           }
          ],
          "scatter": [
           {
            "fillpattern": {
             "fillmode": "overlay",
             "size": 10,
             "solidity": 0.2
            },
            "type": "scatter"
           }
          ],
          "scatter3d": [
           {
            "line": {
             "colorbar": {
              "outlinewidth": 0,
              "ticks": ""
             }
            },
            "marker": {
             "colorbar": {
              "outlinewidth": 0,
              "ticks": ""
             }
            },
            "type": "scatter3d"
           }
          ],
          "scattercarpet": [
           {
            "marker": {
             "colorbar": {
              "outlinewidth": 0,
              "ticks": ""
             }
            },
            "type": "scattercarpet"
           }
          ],
          "scattergeo": [
           {
            "marker": {
             "colorbar": {
              "outlinewidth": 0,
              "ticks": ""
             }
            },
            "type": "scattergeo"
           }
          ],
          "scattergl": [
           {
            "marker": {
             "colorbar": {
              "outlinewidth": 0,
              "ticks": ""
             }
            },
            "type": "scattergl"
           }
          ],
          "scattermapbox": [
           {
            "marker": {
             "colorbar": {
              "outlinewidth": 0,
              "ticks": ""
             }
            },
            "type": "scattermapbox"
           }
          ],
          "scatterpolar": [
           {
            "marker": {
             "colorbar": {
              "outlinewidth": 0,
              "ticks": ""
             }
            },
            "type": "scatterpolar"
           }
          ],
          "scatterpolargl": [
           {
            "marker": {
             "colorbar": {
              "outlinewidth": 0,
              "ticks": ""
             }
            },
            "type": "scatterpolargl"
           }
          ],
          "scatterternary": [
           {
            "marker": {
             "colorbar": {
              "outlinewidth": 0,
              "ticks": ""
             }
            },
            "type": "scatterternary"
           }
          ],
          "surface": [
           {
            "colorbar": {
             "outlinewidth": 0,
             "ticks": ""
            },
            "colorscale": [
             [
              0,
              "#0d0887"
             ],
             [
              0.1111111111111111,
              "#46039f"
             ],
             [
              0.2222222222222222,
              "#7201a8"
             ],
             [
              0.3333333333333333,
              "#9c179e"
             ],
             [
              0.4444444444444444,
              "#bd3786"
             ],
             [
              0.5555555555555556,
              "#d8576b"
             ],
             [
              0.6666666666666666,
              "#ed7953"
             ],
             [
              0.7777777777777778,
              "#fb9f3a"
             ],
             [
              0.8888888888888888,
              "#fdca26"
             ],
             [
              1,
              "#f0f921"
             ]
            ],
            "type": "surface"
           }
          ],
          "table": [
           {
            "cells": {
             "fill": {
              "color": "#EBF0F8"
             },
             "line": {
              "color": "white"
             }
            },
            "header": {
             "fill": {
              "color": "#C8D4E3"
             },
             "line": {
              "color": "white"
             }
            },
            "type": "table"
           }
          ]
         },
         "layout": {
          "annotationdefaults": {
           "arrowcolor": "#2a3f5f",
           "arrowhead": 0,
           "arrowwidth": 1
          },
          "autotypenumbers": "strict",
          "coloraxis": {
           "colorbar": {
            "outlinewidth": 0,
            "ticks": ""
           }
          },
          "colorscale": {
           "diverging": [
            [
             0,
             "#8e0152"
            ],
            [
             0.1,
             "#c51b7d"
            ],
            [
             0.2,
             "#de77ae"
            ],
            [
             0.3,
             "#f1b6da"
            ],
            [
             0.4,
             "#fde0ef"
            ],
            [
             0.5,
             "#f7f7f7"
            ],
            [
             0.6,
             "#e6f5d0"
            ],
            [
             0.7,
             "#b8e186"
            ],
            [
             0.8,
             "#7fbc41"
            ],
            [
             0.9,
             "#4d9221"
            ],
            [
             1,
             "#276419"
            ]
           ],
           "sequential": [
            [
             0,
             "#0d0887"
            ],
            [
             0.1111111111111111,
             "#46039f"
            ],
            [
             0.2222222222222222,
             "#7201a8"
            ],
            [
             0.3333333333333333,
             "#9c179e"
            ],
            [
             0.4444444444444444,
             "#bd3786"
            ],
            [
             0.5555555555555556,
             "#d8576b"
            ],
            [
             0.6666666666666666,
             "#ed7953"
            ],
            [
             0.7777777777777778,
             "#fb9f3a"
            ],
            [
             0.8888888888888888,
             "#fdca26"
            ],
            [
             1,
             "#f0f921"
            ]
           ],
           "sequentialminus": [
            [
             0,
             "#0d0887"
            ],
            [
             0.1111111111111111,
             "#46039f"
            ],
            [
             0.2222222222222222,
             "#7201a8"
            ],
            [
             0.3333333333333333,
             "#9c179e"
            ],
            [
             0.4444444444444444,
             "#bd3786"
            ],
            [
             0.5555555555555556,
             "#d8576b"
            ],
            [
             0.6666666666666666,
             "#ed7953"
            ],
            [
             0.7777777777777778,
             "#fb9f3a"
            ],
            [
             0.8888888888888888,
             "#fdca26"
            ],
            [
             1,
             "#f0f921"
            ]
           ]
          },
          "colorway": [
           "#636efa",
           "#EF553B",
           "#00cc96",
           "#ab63fa",
           "#FFA15A",
           "#19d3f3",
           "#FF6692",
           "#B6E880",
           "#FF97FF",
           "#FECB52"
          ],
          "font": {
           "color": "#2a3f5f"
          },
          "geo": {
           "bgcolor": "white",
           "lakecolor": "white",
           "landcolor": "#E5ECF6",
           "showlakes": true,
           "showland": true,
           "subunitcolor": "white"
          },
          "hoverlabel": {
           "align": "left"
          },
          "hovermode": "closest",
          "mapbox": {
           "style": "light"
          },
          "paper_bgcolor": "white",
          "plot_bgcolor": "#E5ECF6",
          "polar": {
           "angularaxis": {
            "gridcolor": "white",
            "linecolor": "white",
            "ticks": ""
           },
           "bgcolor": "#E5ECF6",
           "radialaxis": {
            "gridcolor": "white",
            "linecolor": "white",
            "ticks": ""
           }
          },
          "scene": {
           "xaxis": {
            "backgroundcolor": "#E5ECF6",
            "gridcolor": "white",
            "gridwidth": 2,
            "linecolor": "white",
            "showbackground": true,
            "ticks": "",
            "zerolinecolor": "white"
           },
           "yaxis": {
            "backgroundcolor": "#E5ECF6",
            "gridcolor": "white",
            "gridwidth": 2,
            "linecolor": "white",
            "showbackground": true,
            "ticks": "",
            "zerolinecolor": "white"
           },
           "zaxis": {
            "backgroundcolor": "#E5ECF6",
            "gridcolor": "white",
            "gridwidth": 2,
            "linecolor": "white",
            "showbackground": true,
            "ticks": "",
            "zerolinecolor": "white"
           }
          },
          "shapedefaults": {
           "line": {
            "color": "#2a3f5f"
           }
          },
          "ternary": {
           "aaxis": {
            "gridcolor": "white",
            "linecolor": "white",
            "ticks": ""
           },
           "baxis": {
            "gridcolor": "white",
            "linecolor": "white",
            "ticks": ""
           },
           "bgcolor": "#E5ECF6",
           "caxis": {
            "gridcolor": "white",
            "linecolor": "white",
            "ticks": ""
           }
          },
          "title": {
           "x": 0.05
          },
          "xaxis": {
           "automargin": true,
           "gridcolor": "white",
           "linecolor": "white",
           "ticks": "",
           "title": {
            "standoff": 15
           },
           "zerolinecolor": "white",
           "zerolinewidth": 2
          },
          "yaxis": {
           "automargin": true,
           "gridcolor": "white",
           "linecolor": "white",
           "ticks": "",
           "title": {
            "standoff": 15
           },
           "zerolinecolor": "white",
           "zerolinewidth": 2
          }
         }
        },
        "xaxis": {
         "anchor": "y",
         "domain": [
          0,
          1
         ],
         "title": {
          "text": "deaths"
         },
         "type": "log"
        },
        "yaxis": {
         "anchor": "x",
         "domain": [
          0,
          1
         ],
         "title": {
          "text": "cases"
         }
        }
       }
      },
      "text/html": [
       "<div>                            <div id=\"1785c9b7-ab2f-4502-846c-dff2a7f843a7\" class=\"plotly-graph-div\" style=\"height:525px; width:100%;\"></div>            <script type=\"text/javascript\">                require([\"plotly\"], function(Plotly) {                    window.PLOTLYENV=window.PLOTLYENV || {};                                    if (document.getElementById(\"1785c9b7-ab2f-4502-846c-dff2a7f843a7\")) {                    Plotly.newPlot(                        \"1785c9b7-ab2f-4502-846c-dff2a7f843a7\",                        [{\"hovertemplate\":\"state=Andaman and Nicobar Islands<br>deaths=%{marker.size}<br>cases=%{y}<extra></extra>\",\"legendgroup\":\"Andaman and Nicobar Islands\",\"marker\":{\"color\":\"#636efa\",\"size\":[129],\"sizemode\":\"area\",\"sizeref\":41.15777777777778,\"symbol\":\"circle\"},\"mode\":\"markers\",\"name\":\"Andaman and Nicobar Islands\",\"orientation\":\"v\",\"showlegend\":true,\"x\":[129],\"xaxis\":\"x\",\"y\":[24],\"yaxis\":\"y\",\"type\":\"scatter\"},{\"hovertemplate\":\"state=Andhra Pradesh<br>deaths=%{marker.size}<br>cases=%{y}<extra></extra>\",\"legendgroup\":\"Andhra Pradesh\",\"marker\":{\"color\":\"#EF553B\",\"size\":[14733],\"sizemode\":\"area\",\"sizeref\":41.15777777777778,\"symbol\":\"circle\"},\"mode\":\"markers\",\"name\":\"Andhra Pradesh\",\"orientation\":\"v\",\"showlegend\":true,\"x\":[14733],\"xaxis\":\"x\",\"y\":[1199],\"yaxis\":\"y\",\"type\":\"scatter\"},{\"hovertemplate\":\"state=Arunachal Pradesh<br>deaths=%{marker.size}<br>cases=%{y}<extra></extra>\",\"legendgroup\":\"Arunachal Pradesh\",\"marker\":{\"color\":\"#00cc96\",\"size\":[296],\"sizemode\":\"area\",\"sizeref\":41.15777777777778,\"symbol\":\"circle\"},\"mode\":\"markers\",\"name\":\"Arunachal Pradesh\",\"orientation\":\"v\",\"showlegend\":true,\"x\":[296],\"xaxis\":\"x\",\"y\":[196],\"yaxis\":\"y\",\"type\":\"scatter\"},{\"hovertemplate\":\"state=Assam<br>deaths=%{marker.size}<br>cases=%{y}<extra></extra>\",\"legendgroup\":\"Assam\",\"marker\":{\"color\":\"#ab63fa\",\"size\":[8026],\"sizemode\":\"area\",\"sizeref\":41.15777777777778,\"symbol\":\"circle\"},\"mode\":\"markers\",\"name\":\"Assam\",\"orientation\":\"v\",\"showlegend\":true,\"x\":[8026],\"xaxis\":\"x\",\"y\":[3359],\"yaxis\":\"y\",\"type\":\"scatter\"},{\"hovertemplate\":\"state=Bihar<br>deaths=%{marker.size}<br>cases=%{y}<extra></extra>\",\"legendgroup\":\"Bihar\",\"marker\":{\"color\":\"#FFA15A\",\"size\":[12287],\"sizemode\":\"area\",\"sizeref\":41.15777777777778,\"symbol\":\"circle\"},\"mode\":\"markers\",\"name\":\"Bihar\",\"orientation\":\"v\",\"showlegend\":true,\"x\":[12287],\"xaxis\":\"x\",\"y\":[789],\"yaxis\":\"y\",\"type\":\"scatter\"},{\"hovertemplate\":\"state=Chandigarh<br>deaths=%{marker.size}<br>cases=%{y}<extra></extra>\",\"legendgroup\":\"Chandigarh\",\"marker\":{\"color\":\"#19d3f3\",\"size\":[1174],\"sizemode\":\"area\",\"sizeref\":41.15777777777778,\"symbol\":\"circle\"},\"mode\":\"markers\",\"name\":\"Chandigarh\",\"orientation\":\"v\",\"showlegend\":true,\"x\":[1174],\"xaxis\":\"x\",\"y\":[645],\"yaxis\":\"y\",\"type\":\"scatter\"},{\"hovertemplate\":\"state=Chhattisgarh<br>deaths=%{marker.size}<br>cases=%{y}<extra></extra>\",\"legendgroup\":\"Chhattisgarh\",\"marker\":{\"color\":\"#FF6692\",\"size\":[14088],\"sizemode\":\"area\",\"sizeref\":41.15777777777778,\"symbol\":\"circle\"},\"mode\":\"markers\",\"name\":\"Chhattisgarh\",\"orientation\":\"v\",\"showlegend\":true,\"x\":[14088],\"xaxis\":\"x\",\"y\":[2000],\"yaxis\":\"y\",\"type\":\"scatter\"},{\"hovertemplate\":\"state=Dadra and Nagar Haveli and Daman and Diu<br>deaths=%{marker.size}<br>cases=%{y}<extra></extra>\",\"legendgroup\":\"Dadra and Nagar Haveli and Daman and Diu\",\"marker\":{\"color\":\"#B6E880\",\"size\":[4],\"sizemode\":\"area\",\"sizeref\":41.15777777777778,\"symbol\":\"circle\"},\"mode\":\"markers\",\"name\":\"Dadra and Nagar Haveli and Daman and Diu\",\"orientation\":\"v\",\"showlegend\":true,\"x\":[4],\"xaxis\":\"x\",\"y\":[9],\"yaxis\":\"y\",\"type\":\"scatter\"},{\"hovertemplate\":\"state=Delhi<br>deaths=%{marker.size}<br>cases=%{y}<extra></extra>\",\"legendgroup\":\"Delhi\",\"marker\":{\"color\":\"#FF97FF\",\"size\":[26376],\"sizemode\":\"area\",\"sizeref\":41.15777777777778,\"symbol\":\"circle\"},\"mode\":\"markers\",\"name\":\"Delhi\",\"orientation\":\"v\",\"showlegend\":true,\"x\":[26376],\"xaxis\":\"x\",\"y\":[8105],\"yaxis\":\"y\",\"type\":\"scatter\"},{\"hovertemplate\":\"state=Goa*<br>deaths=%{marker.size}<br>cases=%{y}<extra></extra>\",\"legendgroup\":\"Goa*\",\"marker\":{\"color\":\"#FECB52\",\"size\":[3855],\"sizemode\":\"area\",\"sizeref\":41.15777777777778,\"symbol\":\"circle\"},\"mode\":\"markers\",\"name\":\"Goa*\",\"orientation\":\"v\",\"showlegend\":true,\"x\":[3855],\"xaxis\":\"x\",\"y\":[1047],\"yaxis\":\"y\",\"type\":\"scatter\"},{\"hovertemplate\":\"state=Gujarat<br>deaths=%{marker.size}<br>cases=%{y}<extra></extra>\",\"legendgroup\":\"Gujarat\",\"marker\":{\"color\":\"#636efa\",\"size\":[10990],\"sizemode\":\"area\",\"sizeref\":41.15777777777778,\"symbol\":\"circle\"},\"mode\":\"markers\",\"name\":\"Gujarat\",\"orientation\":\"v\",\"showlegend\":true,\"x\":[10990],\"xaxis\":\"x\",\"y\":[4205],\"yaxis\":\"y\",\"type\":\"scatter\"},{\"hovertemplate\":\"state=Haryana<br>deaths=%{marker.size}<br>cases=%{y}<extra></extra>\",\"legendgroup\":\"Haryana\",\"marker\":{\"color\":\"#EF553B\",\"size\":[10654],\"sizemode\":\"area\",\"sizeref\":41.15777777777778,\"symbol\":\"circle\"},\"mode\":\"markers\",\"name\":\"Haryana\",\"orientation\":\"v\",\"showlegend\":true,\"x\":[10654],\"xaxis\":\"x\",\"y\":[4973],\"yaxis\":\"y\",\"type\":\"scatter\"},{\"hovertemplate\":\"state=Himachal Pradesh<br>deaths=%{marker.size}<br>cases=%{y}<extra></extra>\",\"legendgroup\":\"Himachal Pradesh\",\"marker\":{\"color\":\"#00cc96\",\"size\":[4183],\"sizemode\":\"area\",\"sizeref\":41.15777777777778,\"symbol\":\"circle\"},\"mode\":\"markers\",\"name\":\"Himachal Pradesh\",\"orientation\":\"v\",\"showlegend\":true,\"x\":[4183],\"xaxis\":\"x\",\"y\":[3024],\"yaxis\":\"y\",\"type\":\"scatter\"},{\"hovertemplate\":\"state=Jammu and Kashmir<br>deaths=%{marker.size}<br>cases=%{y}<extra></extra>\",\"legendgroup\":\"Jammu and Kashmir\",\"marker\":{\"color\":\"#ab63fa\",\"size\":[4777],\"sizemode\":\"area\",\"sizeref\":41.15777777777778,\"symbol\":\"circle\"},\"mode\":\"markers\",\"name\":\"Jammu and Kashmir\",\"orientation\":\"v\",\"showlegend\":true,\"x\":[4777],\"xaxis\":\"x\",\"y\":[4579],\"yaxis\":\"y\",\"type\":\"scatter\"},{\"hovertemplate\":\"state=Jharkhand<br>deaths=%{marker.size}<br>cases=%{y}<extra></extra>\",\"legendgroup\":\"Jharkhand\",\"marker\":{\"color\":\"#FFA15A\",\"size\":[5330],\"sizemode\":\"area\",\"sizeref\":41.15777777777778,\"symbol\":\"circle\"},\"mode\":\"markers\",\"name\":\"Jharkhand\",\"orientation\":\"v\",\"showlegend\":true,\"x\":[5330],\"xaxis\":\"x\",\"y\":[556],\"yaxis\":\"y\",\"type\":\"scatter\"},{\"hovertemplate\":\"state=Karnataka<br>deaths=%{marker.size}<br>cases=%{y}<extra></extra>\",\"legendgroup\":\"Karnataka\",\"marker\":{\"color\":\"#19d3f3\",\"size\":[40186],\"sizemode\":\"area\",\"sizeref\":41.15777777777778,\"symbol\":\"circle\"},\"mode\":\"markers\",\"name\":\"Karnataka\",\"orientation\":\"v\",\"showlegend\":true,\"x\":[40186],\"xaxis\":\"x\",\"y\":[10105],\"yaxis\":\"y\",\"type\":\"scatter\"},{\"hovertemplate\":\"state=Kerala***<br>deaths=%{marker.size}<br>cases=%{y}<extra></extra>\",\"legendgroup\":\"Kerala***\",\"marker\":{\"color\":\"#FF6692\",\"size\":[70642],\"sizemode\":\"area\",\"sizeref\":41.15777777777778,\"symbol\":\"circle\"},\"mode\":\"markers\",\"name\":\"Kerala***\",\"orientation\":\"v\",\"showlegend\":true,\"x\":[70642],\"xaxis\":\"x\",\"y\":[9173],\"yaxis\":\"y\",\"type\":\"scatter\"},{\"hovertemplate\":\"state=Ladakh<br>deaths=%{marker.size}<br>cases=%{y}<extra></extra>\",\"legendgroup\":\"Ladakh\",\"marker\":{\"color\":\"#B6E880\",\"size\":[228],\"sizemode\":\"area\",\"sizeref\":41.15777777777778,\"symbol\":\"circle\"},\"mode\":\"markers\",\"name\":\"Ladakh\",\"orientation\":\"v\",\"showlegend\":true,\"x\":[228],\"xaxis\":\"x\",\"y\":[91],\"yaxis\":\"y\",\"type\":\"scatter\"},{\"hovertemplate\":\"state=Lakshadweep<br>deaths=%{marker.size}<br>cases=%{y}<extra></extra>\",\"legendgroup\":\"Lakshadweep\",\"marker\":{\"color\":\"#FF97FF\",\"size\":[52],\"sizemode\":\"area\",\"sizeref\":41.15777777777778,\"symbol\":\"circle\"},\"mode\":\"markers\",\"name\":\"Lakshadweep\",\"orientation\":\"v\",\"showlegend\":true,\"x\":[52],\"xaxis\":\"x\",\"y\":[0],\"yaxis\":\"y\",\"type\":\"scatter\"},{\"hovertemplate\":\"state=Madhya Pradesh<br>deaths=%{marker.size}<br>cases=%{y}<extra></extra>\",\"legendgroup\":\"Madhya Pradesh\",\"marker\":{\"color\":\"#FECB52\",\"size\":[10763],\"sizemode\":\"area\",\"sizeref\":41.15777777777778,\"symbol\":\"circle\"},\"mode\":\"markers\",\"name\":\"Madhya Pradesh\",\"orientation\":\"v\",\"showlegend\":true,\"x\":[10763],\"xaxis\":\"x\",\"y\":[952],\"yaxis\":\"y\",\"type\":\"scatter\"},{\"hovertemplate\":\"state=Maharashtra<br>deaths=%{marker.size}<br>cases=%{y}<extra></extra>\",\"legendgroup\":\"Maharashtra\",\"marker\":{\"color\":\"#636efa\",\"size\":[148168],\"sizemode\":\"area\",\"sizeref\":41.15777777777778,\"symbol\":\"circle\"},\"mode\":\"markers\",\"name\":\"Maharashtra\",\"orientation\":\"v\",\"showlegend\":true,\"x\":[148168],\"xaxis\":\"x\",\"y\":[11847],\"yaxis\":\"y\",\"type\":\"scatter\"},{\"hovertemplate\":\"state=Manipur<br>deaths=%{marker.size}<br>cases=%{y}<extra></extra>\",\"legendgroup\":\"Manipur\",\"marker\":{\"color\":\"#EF553B\",\"size\":[2143],\"sizemode\":\"area\",\"sizeref\":41.15777777777778,\"symbol\":\"circle\"},\"mode\":\"markers\",\"name\":\"Manipur\",\"orientation\":\"v\",\"showlegend\":true,\"x\":[2143],\"xaxis\":\"x\",\"y\":[183],\"yaxis\":\"y\",\"type\":\"scatter\"},{\"hovertemplate\":\"state=Meghalaya<br>deaths=%{marker.size}<br>cases=%{y}<extra></extra>\",\"legendgroup\":\"Meghalaya\",\"marker\":{\"color\":\"#00cc96\",\"size\":[1613],\"sizemode\":\"area\",\"sizeref\":41.15777777777778,\"symbol\":\"circle\"},\"mode\":\"markers\",\"name\":\"Meghalaya\",\"orientation\":\"v\",\"showlegend\":true,\"x\":[1613],\"xaxis\":\"x\",\"y\":[510],\"yaxis\":\"y\",\"type\":\"scatter\"},{\"hovertemplate\":\"state=Mizoram<br>deaths=%{marker.size}<br>cases=%{y}<extra></extra>\",\"legendgroup\":\"Mizoram\",\"marker\":{\"color\":\"#ab63fa\",\"size\":[717],\"sizemode\":\"area\",\"sizeref\":41.15777777777778,\"symbol\":\"circle\"},\"mode\":\"markers\",\"name\":\"Mizoram\",\"orientation\":\"v\",\"showlegend\":true,\"x\":[717],\"xaxis\":\"x\",\"y\":[976],\"yaxis\":\"y\",\"type\":\"scatter\"},{\"hovertemplate\":\"state=Nagaland<br>deaths=%{marker.size}<br>cases=%{y}<extra></extra>\",\"legendgroup\":\"Nagaland\",\"marker\":{\"color\":\"#FFA15A\",\"size\":[773],\"sizemode\":\"area\",\"sizeref\":41.15777777777778,\"symbol\":\"circle\"},\"mode\":\"markers\",\"name\":\"Nagaland\",\"orientation\":\"v\",\"showlegend\":true,\"x\":[773],\"xaxis\":\"x\",\"y\":[41],\"yaxis\":\"y\",\"type\":\"scatter\"},{\"hovertemplate\":\"state=Odisha<br>deaths=%{marker.size}<br>cases=%{y}<extra></extra>\",\"legendgroup\":\"Odisha\",\"marker\":{\"color\":\"#19d3f3\",\"size\":[9154],\"sizemode\":\"area\",\"sizeref\":41.15777777777778,\"symbol\":\"circle\"},\"mode\":\"markers\",\"name\":\"Odisha\",\"orientation\":\"v\",\"showlegend\":true,\"x\":[9154],\"xaxis\":\"x\",\"y\":[4019],\"yaxis\":\"y\",\"type\":\"scatter\"},{\"hovertemplate\":\"state=Puducherry<br>deaths=%{marker.size}<br>cases=%{y}<extra></extra>\",\"legendgroup\":\"Puducherry\",\"marker\":{\"color\":\"#FF6692\",\"size\":[1967],\"sizemode\":\"area\",\"sizeref\":41.15777777777778,\"symbol\":\"circle\"},\"mode\":\"markers\",\"name\":\"Puducherry\",\"orientation\":\"v\",\"showlegend\":true,\"x\":[1967],\"xaxis\":\"x\",\"y\":[454],\"yaxis\":\"y\",\"type\":\"scatter\"},{\"hovertemplate\":\"state=Punjab**<br>deaths=%{marker.size}<br>cases=%{y}<extra></extra>\",\"legendgroup\":\"Punjab**\",\"marker\":{\"color\":\"#B6E880\",\"size\":[17851],\"sizemode\":\"area\",\"sizeref\":41.15777777777778,\"symbol\":\"circle\"},\"mode\":\"markers\",\"name\":\"Punjab**\",\"orientation\":\"v\",\"showlegend\":true,\"x\":[17851],\"xaxis\":\"x\",\"y\":[14213],\"yaxis\":\"y\",\"type\":\"scatter\"},{\"hovertemplate\":\"state=Rajasthan<br>deaths=%{marker.size}<br>cases=%{y}<extra></extra>\",\"legendgroup\":\"Rajasthan\",\"marker\":{\"color\":\"#FF97FF\",\"size\":[9593],\"sizemode\":\"area\",\"sizeref\":41.15777777777778,\"symbol\":\"circle\"},\"mode\":\"markers\",\"name\":\"Rajasthan\",\"orientation\":\"v\",\"showlegend\":true,\"x\":[9593],\"xaxis\":\"x\",\"y\":[4299],\"yaxis\":\"y\",\"type\":\"scatter\"},{\"hovertemplate\":\"state=Sikkim<br>deaths=%{marker.size}<br>cases=%{y}<extra></extra>\",\"legendgroup\":\"Sikkim\",\"marker\":{\"color\":\"#FECB52\",\"size\":[479],\"sizemode\":\"area\",\"sizeref\":41.15777777777778,\"symbol\":\"circle\"},\"mode\":\"markers\",\"name\":\"Sikkim\",\"orientation\":\"v\",\"showlegend\":true,\"x\":[479],\"xaxis\":\"x\",\"y\":[317],\"yaxis\":\"y\",\"type\":\"scatter\"},{\"hovertemplate\":\"state=Tamil Nadu<br>deaths=%{marker.size}<br>cases=%{y}<extra></extra>\",\"legendgroup\":\"Tamil Nadu\",\"marker\":{\"color\":\"#636efa\",\"size\":[38033],\"sizemode\":\"area\",\"sizeref\":41.15777777777778,\"symbol\":\"circle\"},\"mode\":\"markers\",\"name\":\"Tamil Nadu\",\"orientation\":\"v\",\"showlegend\":true,\"x\":[38033],\"xaxis\":\"x\",\"y\":[7680],\"yaxis\":\"y\",\"type\":\"scatter\"},{\"hovertemplate\":\"state=Telangana<br>deaths=%{marker.size}<br>cases=%{y}<extra></extra>\",\"legendgroup\":\"Telangana\",\"marker\":{\"color\":\"#EF553B\",\"size\":[4111],\"sizemode\":\"area\",\"sizeref\":41.15777777777778,\"symbol\":\"circle\"},\"mode\":\"markers\",\"name\":\"Telangana\",\"orientation\":\"v\",\"showlegend\":true,\"x\":[4111],\"xaxis\":\"x\",\"y\":[3551],\"yaxis\":\"y\",\"type\":\"scatter\"},{\"hovertemplate\":\"state=Tripura<br>deaths=%{marker.size}<br>cases=%{y}<extra></extra>\",\"legendgroup\":\"Tripura\",\"marker\":{\"color\":\"#00cc96\",\"size\":[937],\"sizemode\":\"area\",\"sizeref\":41.15777777777778,\"symbol\":\"circle\"},\"mode\":\"markers\",\"name\":\"Tripura\",\"orientation\":\"v\",\"showlegend\":true,\"x\":[937],\"xaxis\":\"x\",\"y\":[250],\"yaxis\":\"y\",\"type\":\"scatter\"},{\"hovertemplate\":\"state=Uttar Pradesh<br>deaths=%{marker.size}<br>cases=%{y}<extra></extra>\",\"legendgroup\":\"Uttar Pradesh\",\"marker\":{\"color\":\"#ab63fa\",\"size\":[23583],\"sizemode\":\"area\",\"sizeref\":41.15777777777778,\"symbol\":\"circle\"},\"mode\":\"markers\",\"name\":\"Uttar Pradesh\",\"orientation\":\"v\",\"showlegend\":true,\"x\":[23583],\"xaxis\":\"x\",\"y\":[5632],\"yaxis\":\"y\",\"type\":\"scatter\"},{\"hovertemplate\":\"state=Uttarakhand<br>deaths=%{marker.size}<br>cases=%{y}<extra></extra>\",\"legendgroup\":\"Uttarakhand\",\"marker\":{\"color\":\"#FFA15A\",\"size\":[7726],\"sizemode\":\"area\",\"sizeref\":41.15777777777778,\"symbol\":\"circle\"},\"mode\":\"markers\",\"name\":\"Uttarakhand\",\"orientation\":\"v\",\"showlegend\":true,\"x\":[7726],\"xaxis\":\"x\",\"y\":[1974],\"yaxis\":\"y\",\"type\":\"scatter\"},{\"hovertemplate\":\"state=West Bengal<br>deaths=%{marker.size}<br>cases=%{y}<extra></extra>\",\"legendgroup\":\"West Bengal\",\"marker\":{\"color\":\"#19d3f3\",\"size\":[21420],\"sizemode\":\"area\",\"sizeref\":41.15777777777778,\"symbol\":\"circle\"},\"mode\":\"markers\",\"name\":\"West Bengal\",\"orientation\":\"v\",\"showlegend\":true,\"x\":[21420],\"xaxis\":\"x\",\"y\":[5884],\"yaxis\":\"y\",\"type\":\"scatter\"}],                        {\"template\":{\"data\":{\"histogram2dcontour\":[{\"type\":\"histogram2dcontour\",\"colorbar\":{\"outlinewidth\":0,\"ticks\":\"\"},\"colorscale\":[[0.0,\"#0d0887\"],[0.1111111111111111,\"#46039f\"],[0.2222222222222222,\"#7201a8\"],[0.3333333333333333,\"#9c179e\"],[0.4444444444444444,\"#bd3786\"],[0.5555555555555556,\"#d8576b\"],[0.6666666666666666,\"#ed7953\"],[0.7777777777777778,\"#fb9f3a\"],[0.8888888888888888,\"#fdca26\"],[1.0,\"#f0f921\"]]}],\"choropleth\":[{\"type\":\"choropleth\",\"colorbar\":{\"outlinewidth\":0,\"ticks\":\"\"}}],\"histogram2d\":[{\"type\":\"histogram2d\",\"colorbar\":{\"outlinewidth\":0,\"ticks\":\"\"},\"colorscale\":[[0.0,\"#0d0887\"],[0.1111111111111111,\"#46039f\"],[0.2222222222222222,\"#7201a8\"],[0.3333333333333333,\"#9c179e\"],[0.4444444444444444,\"#bd3786\"],[0.5555555555555556,\"#d8576b\"],[0.6666666666666666,\"#ed7953\"],[0.7777777777777778,\"#fb9f3a\"],[0.8888888888888888,\"#fdca26\"],[1.0,\"#f0f921\"]]}],\"heatmap\":[{\"type\":\"heatmap\",\"colorbar\":{\"outlinewidth\":0,\"ticks\":\"\"},\"colorscale\":[[0.0,\"#0d0887\"],[0.1111111111111111,\"#46039f\"],[0.2222222222222222,\"#7201a8\"],[0.3333333333333333,\"#9c179e\"],[0.4444444444444444,\"#bd3786\"],[0.5555555555555556,\"#d8576b\"],[0.6666666666666666,\"#ed7953\"],[0.7777777777777778,\"#fb9f3a\"],[0.8888888888888888,\"#fdca26\"],[1.0,\"#f0f921\"]]}],\"heatmapgl\":[{\"type\":\"heatmapgl\",\"colorbar\":{\"outlinewidth\":0,\"ticks\":\"\"},\"colorscale\":[[0.0,\"#0d0887\"],[0.1111111111111111,\"#46039f\"],[0.2222222222222222,\"#7201a8\"],[0.3333333333333333,\"#9c179e\"],[0.4444444444444444,\"#bd3786\"],[0.5555555555555556,\"#d8576b\"],[0.6666666666666666,\"#ed7953\"],[0.7777777777777778,\"#fb9f3a\"],[0.8888888888888888,\"#fdca26\"],[1.0,\"#f0f921\"]]}],\"contourcarpet\":[{\"type\":\"contourcarpet\",\"colorbar\":{\"outlinewidth\":0,\"ticks\":\"\"}}],\"contour\":[{\"type\":\"contour\",\"colorbar\":{\"outlinewidth\":0,\"ticks\":\"\"},\"colorscale\":[[0.0,\"#0d0887\"],[0.1111111111111111,\"#46039f\"],[0.2222222222222222,\"#7201a8\"],[0.3333333333333333,\"#9c179e\"],[0.4444444444444444,\"#bd3786\"],[0.5555555555555556,\"#d8576b\"],[0.6666666666666666,\"#ed7953\"],[0.7777777777777778,\"#fb9f3a\"],[0.8888888888888888,\"#fdca26\"],[1.0,\"#f0f921\"]]}],\"surface\":[{\"type\":\"surface\",\"colorbar\":{\"outlinewidth\":0,\"ticks\":\"\"},\"colorscale\":[[0.0,\"#0d0887\"],[0.1111111111111111,\"#46039f\"],[0.2222222222222222,\"#7201a8\"],[0.3333333333333333,\"#9c179e\"],[0.4444444444444444,\"#bd3786\"],[0.5555555555555556,\"#d8576b\"],[0.6666666666666666,\"#ed7953\"],[0.7777777777777778,\"#fb9f3a\"],[0.8888888888888888,\"#fdca26\"],[1.0,\"#f0f921\"]]}],\"mesh3d\":[{\"type\":\"mesh3d\",\"colorbar\":{\"outlinewidth\":0,\"ticks\":\"\"}}],\"scatter\":[{\"fillpattern\":{\"fillmode\":\"overlay\",\"size\":10,\"solidity\":0.2},\"type\":\"scatter\"}],\"parcoords\":[{\"type\":\"parcoords\",\"line\":{\"colorbar\":{\"outlinewidth\":0,\"ticks\":\"\"}}}],\"scatterpolargl\":[{\"type\":\"scatterpolargl\",\"marker\":{\"colorbar\":{\"outlinewidth\":0,\"ticks\":\"\"}}}],\"bar\":[{\"error_x\":{\"color\":\"#2a3f5f\"},\"error_y\":{\"color\":\"#2a3f5f\"},\"marker\":{\"line\":{\"color\":\"#E5ECF6\",\"width\":0.5},\"pattern\":{\"fillmode\":\"overlay\",\"size\":10,\"solidity\":0.2}},\"type\":\"bar\"}],\"scattergeo\":[{\"type\":\"scattergeo\",\"marker\":{\"colorbar\":{\"outlinewidth\":0,\"ticks\":\"\"}}}],\"scatterpolar\":[{\"type\":\"scatterpolar\",\"marker\":{\"colorbar\":{\"outlinewidth\":0,\"ticks\":\"\"}}}],\"histogram\":[{\"marker\":{\"pattern\":{\"fillmode\":\"overlay\",\"size\":10,\"solidity\":0.2}},\"type\":\"histogram\"}],\"scattergl\":[{\"type\":\"scattergl\",\"marker\":{\"colorbar\":{\"outlinewidth\":0,\"ticks\":\"\"}}}],\"scatter3d\":[{\"type\":\"scatter3d\",\"line\":{\"colorbar\":{\"outlinewidth\":0,\"ticks\":\"\"}},\"marker\":{\"colorbar\":{\"outlinewidth\":0,\"ticks\":\"\"}}}],\"scattermapbox\":[{\"type\":\"scattermapbox\",\"marker\":{\"colorbar\":{\"outlinewidth\":0,\"ticks\":\"\"}}}],\"scatterternary\":[{\"type\":\"scatterternary\",\"marker\":{\"colorbar\":{\"outlinewidth\":0,\"ticks\":\"\"}}}],\"scattercarpet\":[{\"type\":\"scattercarpet\",\"marker\":{\"colorbar\":{\"outlinewidth\":0,\"ticks\":\"\"}}}],\"carpet\":[{\"aaxis\":{\"endlinecolor\":\"#2a3f5f\",\"gridcolor\":\"white\",\"linecolor\":\"white\",\"minorgridcolor\":\"white\",\"startlinecolor\":\"#2a3f5f\"},\"baxis\":{\"endlinecolor\":\"#2a3f5f\",\"gridcolor\":\"white\",\"linecolor\":\"white\",\"minorgridcolor\":\"white\",\"startlinecolor\":\"#2a3f5f\"},\"type\":\"carpet\"}],\"table\":[{\"cells\":{\"fill\":{\"color\":\"#EBF0F8\"},\"line\":{\"color\":\"white\"}},\"header\":{\"fill\":{\"color\":\"#C8D4E3\"},\"line\":{\"color\":\"white\"}},\"type\":\"table\"}],\"barpolar\":[{\"marker\":{\"line\":{\"color\":\"#E5ECF6\",\"width\":0.5},\"pattern\":{\"fillmode\":\"overlay\",\"size\":10,\"solidity\":0.2}},\"type\":\"barpolar\"}],\"pie\":[{\"automargin\":true,\"type\":\"pie\"}]},\"layout\":{\"autotypenumbers\":\"strict\",\"colorway\":[\"#636efa\",\"#EF553B\",\"#00cc96\",\"#ab63fa\",\"#FFA15A\",\"#19d3f3\",\"#FF6692\",\"#B6E880\",\"#FF97FF\",\"#FECB52\"],\"font\":{\"color\":\"#2a3f5f\"},\"hovermode\":\"closest\",\"hoverlabel\":{\"align\":\"left\"},\"paper_bgcolor\":\"white\",\"plot_bgcolor\":\"#E5ECF6\",\"polar\":{\"bgcolor\":\"#E5ECF6\",\"angularaxis\":{\"gridcolor\":\"white\",\"linecolor\":\"white\",\"ticks\":\"\"},\"radialaxis\":{\"gridcolor\":\"white\",\"linecolor\":\"white\",\"ticks\":\"\"}},\"ternary\":{\"bgcolor\":\"#E5ECF6\",\"aaxis\":{\"gridcolor\":\"white\",\"linecolor\":\"white\",\"ticks\":\"\"},\"baxis\":{\"gridcolor\":\"white\",\"linecolor\":\"white\",\"ticks\":\"\"},\"caxis\":{\"gridcolor\":\"white\",\"linecolor\":\"white\",\"ticks\":\"\"}},\"coloraxis\":{\"colorbar\":{\"outlinewidth\":0,\"ticks\":\"\"}},\"colorscale\":{\"sequential\":[[0.0,\"#0d0887\"],[0.1111111111111111,\"#46039f\"],[0.2222222222222222,\"#7201a8\"],[0.3333333333333333,\"#9c179e\"],[0.4444444444444444,\"#bd3786\"],[0.5555555555555556,\"#d8576b\"],[0.6666666666666666,\"#ed7953\"],[0.7777777777777778,\"#fb9f3a\"],[0.8888888888888888,\"#fdca26\"],[1.0,\"#f0f921\"]],\"sequentialminus\":[[0.0,\"#0d0887\"],[0.1111111111111111,\"#46039f\"],[0.2222222222222222,\"#7201a8\"],[0.3333333333333333,\"#9c179e\"],[0.4444444444444444,\"#bd3786\"],[0.5555555555555556,\"#d8576b\"],[0.6666666666666666,\"#ed7953\"],[0.7777777777777778,\"#fb9f3a\"],[0.8888888888888888,\"#fdca26\"],[1.0,\"#f0f921\"]],\"diverging\":[[0,\"#8e0152\"],[0.1,\"#c51b7d\"],[0.2,\"#de77ae\"],[0.3,\"#f1b6da\"],[0.4,\"#fde0ef\"],[0.5,\"#f7f7f7\"],[0.6,\"#e6f5d0\"],[0.7,\"#b8e186\"],[0.8,\"#7fbc41\"],[0.9,\"#4d9221\"],[1,\"#276419\"]]},\"xaxis\":{\"gridcolor\":\"white\",\"linecolor\":\"white\",\"ticks\":\"\",\"title\":{\"standoff\":15},\"zerolinecolor\":\"white\",\"automargin\":true,\"zerolinewidth\":2},\"yaxis\":{\"gridcolor\":\"white\",\"linecolor\":\"white\",\"ticks\":\"\",\"title\":{\"standoff\":15},\"zerolinecolor\":\"white\",\"automargin\":true,\"zerolinewidth\":2},\"scene\":{\"xaxis\":{\"backgroundcolor\":\"#E5ECF6\",\"gridcolor\":\"white\",\"linecolor\":\"white\",\"showbackground\":true,\"ticks\":\"\",\"zerolinecolor\":\"white\",\"gridwidth\":2},\"yaxis\":{\"backgroundcolor\":\"#E5ECF6\",\"gridcolor\":\"white\",\"linecolor\":\"white\",\"showbackground\":true,\"ticks\":\"\",\"zerolinecolor\":\"white\",\"gridwidth\":2},\"zaxis\":{\"backgroundcolor\":\"#E5ECF6\",\"gridcolor\":\"white\",\"linecolor\":\"white\",\"showbackground\":true,\"ticks\":\"\",\"zerolinecolor\":\"white\",\"gridwidth\":2}},\"shapedefaults\":{\"line\":{\"color\":\"#2a3f5f\"}},\"annotationdefaults\":{\"arrowcolor\":\"#2a3f5f\",\"arrowhead\":0,\"arrowwidth\":1},\"geo\":{\"bgcolor\":\"white\",\"landcolor\":\"#E5ECF6\",\"subunitcolor\":\"white\",\"showland\":true,\"showlakes\":true,\"lakecolor\":\"white\"},\"title\":{\"x\":0.05},\"mapbox\":{\"style\":\"light\"}}},\"xaxis\":{\"anchor\":\"y\",\"domain\":[0.0,1.0],\"title\":{\"text\":\"deaths\"},\"type\":\"log\"},\"yaxis\":{\"anchor\":\"x\",\"domain\":[0.0,1.0],\"title\":{\"text\":\"cases\"}},\"legend\":{\"title\":{\"text\":\"state\"},\"tracegroupgap\":0,\"itemsizing\":\"constant\"},\"margin\":{\"t\":60}},                        {\"responsive\": true}                    ).then(function(){\n",
       "                            \n",
       "var gd = document.getElementById('1785c9b7-ab2f-4502-846c-dff2a7f843a7');\n",
       "var x = new MutationObserver(function (mutations, observer) {{\n",
       "        var display = window.getComputedStyle(gd).display;\n",
       "        if (!display || display === 'none') {{\n",
       "            console.log([gd, 'removed!']);\n",
       "            Plotly.purge(gd);\n",
       "            observer.disconnect();\n",
       "        }}\n",
       "}});\n",
       "\n",
       "// Listen for the removal of the full notebook cells\n",
       "var notebookContainer = gd.closest('#notebook-container');\n",
       "if (notebookContainer) {{\n",
       "    x.observe(notebookContainer, {childList: true});\n",
       "}}\n",
       "\n",
       "// Listen for the clearing of the current output cell\n",
       "var outputEl = gd.closest('.output');\n",
       "if (outputEl) {{\n",
       "    x.observe(outputEl, {childList: true});\n",
       "}}\n",
       "\n",
       "                        })                };                });            </script>        </div>"
      ]
     },
     "metadata": {},
     "output_type": "display_data"
    },
    {
     "data": {
      "text/html": [
       "<div>\n",
       "<style scoped>\n",
       "    .dataframe tbody tr th:only-of-type {\n",
       "        vertical-align: middle;\n",
       "    }\n",
       "\n",
       "    .dataframe tbody tr th {\n",
       "        vertical-align: top;\n",
       "    }\n",
       "\n",
       "    .dataframe thead th {\n",
       "        text-align: right;\n",
       "    }\n",
       "</style>\n",
       "<table border=\"1\" class=\"dataframe\">\n",
       "  <thead>\n",
       "    <tr style=\"text-align: right;\">\n",
       "      <th></th>\n",
       "      <th>state</th>\n",
       "      <th>cases</th>\n",
       "      <th>recoveries</th>\n",
       "      <th>deaths</th>\n",
       "      <th>total</th>\n",
       "    </tr>\n",
       "  </thead>\n",
       "  <tbody>\n",
       "    <tr>\n",
       "      <th>0</th>\n",
       "      <td>Andaman and Nicobar Islands</td>\n",
       "      <td>24</td>\n",
       "      <td>10361</td>\n",
       "      <td>129</td>\n",
       "      <td>10514</td>\n",
       "    </tr>\n",
       "    <tr>\n",
       "      <th>1</th>\n",
       "      <td>Andhra Pradesh</td>\n",
       "      <td>1199</td>\n",
       "      <td>2318753</td>\n",
       "      <td>14733</td>\n",
       "      <td>2334685</td>\n",
       "    </tr>\n",
       "    <tr>\n",
       "      <th>2</th>\n",
       "      <td>Arunachal Pradesh</td>\n",
       "      <td>196</td>\n",
       "      <td>65904</td>\n",
       "      <td>296</td>\n",
       "      <td>66396</td>\n",
       "    </tr>\n",
       "    <tr>\n",
       "      <th>3</th>\n",
       "      <td>Assam</td>\n",
       "      <td>3359</td>\n",
       "      <td>731293</td>\n",
       "      <td>8026</td>\n",
       "      <td>742678</td>\n",
       "    </tr>\n",
       "    <tr>\n",
       "      <th>4</th>\n",
       "      <td>Bihar</td>\n",
       "      <td>789</td>\n",
       "      <td>832600</td>\n",
       "      <td>12287</td>\n",
       "      <td>845676</td>\n",
       "    </tr>\n",
       "    <tr>\n",
       "      <th>5</th>\n",
       "      <td>Chandigarh</td>\n",
       "      <td>645</td>\n",
       "      <td>96070</td>\n",
       "      <td>1174</td>\n",
       "      <td>97889</td>\n",
       "    </tr>\n",
       "    <tr>\n",
       "      <th>6</th>\n",
       "      <td>Chhattisgarh</td>\n",
       "      <td>2000</td>\n",
       "      <td>1154655</td>\n",
       "      <td>14088</td>\n",
       "      <td>1170743</td>\n",
       "    </tr>\n",
       "    <tr>\n",
       "      <th>7</th>\n",
       "      <td>Dadra and Nagar Haveli and Daman and Diu</td>\n",
       "      <td>9</td>\n",
       "      <td>11549</td>\n",
       "      <td>4</td>\n",
       "      <td>11562</td>\n",
       "    </tr>\n",
       "    <tr>\n",
       "      <th>8</th>\n",
       "      <td>Delhi</td>\n",
       "      <td>8105</td>\n",
       "      <td>1947952</td>\n",
       "      <td>26376</td>\n",
       "      <td>1982433</td>\n",
       "    </tr>\n",
       "    <tr>\n",
       "      <th>9</th>\n",
       "      <td>Goa*</td>\n",
       "      <td>1047</td>\n",
       "      <td>249008</td>\n",
       "      <td>3855</td>\n",
       "      <td>253910</td>\n",
       "    </tr>\n",
       "    <tr>\n",
       "      <th>10</th>\n",
       "      <td>Gujarat</td>\n",
       "      <td>4205</td>\n",
       "      <td>1249659</td>\n",
       "      <td>10990</td>\n",
       "      <td>1264854</td>\n",
       "    </tr>\n",
       "    <tr>\n",
       "      <th>11</th>\n",
       "      <td>Haryana</td>\n",
       "      <td>4973</td>\n",
       "      <td>1026151</td>\n",
       "      <td>10654</td>\n",
       "      <td>1041778</td>\n",
       "    </tr>\n",
       "    <tr>\n",
       "      <th>12</th>\n",
       "      <td>Himachal Pradesh</td>\n",
       "      <td>3024</td>\n",
       "      <td>300275</td>\n",
       "      <td>4183</td>\n",
       "      <td>307482</td>\n",
       "    </tr>\n",
       "    <tr>\n",
       "      <th>13</th>\n",
       "      <td>Jammu and Kashmir</td>\n",
       "      <td>4579</td>\n",
       "      <td>463863</td>\n",
       "      <td>4777</td>\n",
       "      <td>473219</td>\n",
       "    </tr>\n",
       "    <tr>\n",
       "      <th>14</th>\n",
       "      <td>Jharkhand</td>\n",
       "      <td>556</td>\n",
       "      <td>435457</td>\n",
       "      <td>5330</td>\n",
       "      <td>441343</td>\n",
       "    </tr>\n",
       "    <tr>\n",
       "      <th>15</th>\n",
       "      <td>Karnataka</td>\n",
       "      <td>10105</td>\n",
       "      <td>3979155</td>\n",
       "      <td>40186</td>\n",
       "      <td>4029446</td>\n",
       "    </tr>\n",
       "    <tr>\n",
       "      <th>16</th>\n",
       "      <td>Kerala***</td>\n",
       "      <td>9173</td>\n",
       "      <td>6656578</td>\n",
       "      <td>70642</td>\n",
       "      <td>6736389</td>\n",
       "    </tr>\n",
       "    <tr>\n",
       "      <th>17</th>\n",
       "      <td>Ladakh</td>\n",
       "      <td>91</td>\n",
       "      <td>28755</td>\n",
       "      <td>228</td>\n",
       "      <td>29074</td>\n",
       "    </tr>\n",
       "    <tr>\n",
       "      <th>18</th>\n",
       "      <td>Lakshadweep</td>\n",
       "      <td>0</td>\n",
       "      <td>11363</td>\n",
       "      <td>52</td>\n",
       "      <td>11415</td>\n",
       "    </tr>\n",
       "    <tr>\n",
       "      <th>19</th>\n",
       "      <td>Madhya Pradesh</td>\n",
       "      <td>952</td>\n",
       "      <td>1040356</td>\n",
       "      <td>10763</td>\n",
       "      <td>1052071</td>\n",
       "    </tr>\n",
       "    <tr>\n",
       "      <th>20</th>\n",
       "      <td>Maharashtra</td>\n",
       "      <td>11847</td>\n",
       "      <td>7910243</td>\n",
       "      <td>148168</td>\n",
       "      <td>8070258</td>\n",
       "    </tr>\n",
       "    <tr>\n",
       "      <th>21</th>\n",
       "      <td>Manipur</td>\n",
       "      <td>183</td>\n",
       "      <td>137176</td>\n",
       "      <td>2143</td>\n",
       "      <td>139502</td>\n",
       "    </tr>\n",
       "    <tr>\n",
       "      <th>22</th>\n",
       "      <td>Meghalaya</td>\n",
       "      <td>510</td>\n",
       "      <td>94011</td>\n",
       "      <td>1613</td>\n",
       "      <td>96134</td>\n",
       "    </tr>\n",
       "    <tr>\n",
       "      <th>23</th>\n",
       "      <td>Mizoram</td>\n",
       "      <td>976</td>\n",
       "      <td>233486</td>\n",
       "      <td>717</td>\n",
       "      <td>235179</td>\n",
       "    </tr>\n",
       "    <tr>\n",
       "      <th>24</th>\n",
       "      <td>Nagaland</td>\n",
       "      <td>41</td>\n",
       "      <td>35052</td>\n",
       "      <td>773</td>\n",
       "      <td>35866</td>\n",
       "    </tr>\n",
       "    <tr>\n",
       "      <th>25</th>\n",
       "      <td>Odisha</td>\n",
       "      <td>4019</td>\n",
       "      <td>1309010</td>\n",
       "      <td>9154</td>\n",
       "      <td>1322183</td>\n",
       "    </tr>\n",
       "    <tr>\n",
       "      <th>26</th>\n",
       "      <td>Puducherry</td>\n",
       "      <td>454</td>\n",
       "      <td>169628</td>\n",
       "      <td>1967</td>\n",
       "      <td>172049</td>\n",
       "    </tr>\n",
       "    <tr>\n",
       "      <th>27</th>\n",
       "      <td>Punjab**</td>\n",
       "      <td>14213</td>\n",
       "      <td>747101</td>\n",
       "      <td>17851</td>\n",
       "      <td>779165</td>\n",
       "    </tr>\n",
       "    <tr>\n",
       "      <th>28</th>\n",
       "      <td>Rajasthan</td>\n",
       "      <td>4299</td>\n",
       "      <td>1286748</td>\n",
       "      <td>9593</td>\n",
       "      <td>1300640</td>\n",
       "    </tr>\n",
       "    <tr>\n",
       "      <th>29</th>\n",
       "      <td>Sikkim</td>\n",
       "      <td>317</td>\n",
       "      <td>42257</td>\n",
       "      <td>479</td>\n",
       "      <td>43053</td>\n",
       "    </tr>\n",
       "    <tr>\n",
       "      <th>30</th>\n",
       "      <td>Tamil Nadu</td>\n",
       "      <td>7680</td>\n",
       "      <td>3512316</td>\n",
       "      <td>38033</td>\n",
       "      <td>3558029</td>\n",
       "    </tr>\n",
       "    <tr>\n",
       "      <th>31</th>\n",
       "      <td>Telangana</td>\n",
       "      <td>3551</td>\n",
       "      <td>821249</td>\n",
       "      <td>4111</td>\n",
       "      <td>828911</td>\n",
       "    </tr>\n",
       "    <tr>\n",
       "      <th>32</th>\n",
       "      <td>Tripura</td>\n",
       "      <td>250</td>\n",
       "      <td>106387</td>\n",
       "      <td>937</td>\n",
       "      <td>107574</td>\n",
       "    </tr>\n",
       "    <tr>\n",
       "      <th>33</th>\n",
       "      <td>Uttar Pradesh</td>\n",
       "      <td>5632</td>\n",
       "      <td>2083963</td>\n",
       "      <td>23583</td>\n",
       "      <td>2113178</td>\n",
       "    </tr>\n",
       "    <tr>\n",
       "      <th>34</th>\n",
       "      <td>Uttarakhand</td>\n",
       "      <td>1974</td>\n",
       "      <td>436478</td>\n",
       "      <td>7726</td>\n",
       "      <td>446178</td>\n",
       "    </tr>\n",
       "    <tr>\n",
       "      <th>35</th>\n",
       "      <td>West Bengal</td>\n",
       "      <td>5884</td>\n",
       "      <td>2074704</td>\n",
       "      <td>21420</td>\n",
       "      <td>2102008</td>\n",
       "    </tr>\n",
       "  </tbody>\n",
       "</table>\n",
       "</div>"
      ],
      "text/plain": [
       "                                       state  cases  recoveries  deaths  \\\n",
       "0                Andaman and Nicobar Islands     24       10361     129   \n",
       "1                             Andhra Pradesh   1199     2318753   14733   \n",
       "2                          Arunachal Pradesh    196       65904     296   \n",
       "3                                      Assam   3359      731293    8026   \n",
       "4                                      Bihar    789      832600   12287   \n",
       "5                                 Chandigarh    645       96070    1174   \n",
       "6                               Chhattisgarh   2000     1154655   14088   \n",
       "7   Dadra and Nagar Haveli and Daman and Diu      9       11549       4   \n",
       "8                                      Delhi   8105     1947952   26376   \n",
       "9                                       Goa*   1047      249008    3855   \n",
       "10                                   Gujarat   4205     1249659   10990   \n",
       "11                                   Haryana   4973     1026151   10654   \n",
       "12                          Himachal Pradesh   3024      300275    4183   \n",
       "13                         Jammu and Kashmir   4579      463863    4777   \n",
       "14                                 Jharkhand    556      435457    5330   \n",
       "15                                 Karnataka  10105     3979155   40186   \n",
       "16                                 Kerala***   9173     6656578   70642   \n",
       "17                                    Ladakh     91       28755     228   \n",
       "18                               Lakshadweep      0       11363      52   \n",
       "19                            Madhya Pradesh    952     1040356   10763   \n",
       "20                               Maharashtra  11847     7910243  148168   \n",
       "21                                   Manipur    183      137176    2143   \n",
       "22                                 Meghalaya    510       94011    1613   \n",
       "23                                   Mizoram    976      233486     717   \n",
       "24                                  Nagaland     41       35052     773   \n",
       "25                                    Odisha   4019     1309010    9154   \n",
       "26                                Puducherry    454      169628    1967   \n",
       "27                                  Punjab**  14213      747101   17851   \n",
       "28                                 Rajasthan   4299     1286748    9593   \n",
       "29                                    Sikkim    317       42257     479   \n",
       "30                                Tamil Nadu   7680     3512316   38033   \n",
       "31                                 Telangana   3551      821249    4111   \n",
       "32                                   Tripura    250      106387     937   \n",
       "33                             Uttar Pradesh   5632     2083963   23583   \n",
       "34                               Uttarakhand   1974      436478    7726   \n",
       "35                               West Bengal   5884     2074704   21420   \n",
       "\n",
       "      total  \n",
       "0     10514  \n",
       "1   2334685  \n",
       "2     66396  \n",
       "3    742678  \n",
       "4    845676  \n",
       "5     97889  \n",
       "6   1170743  \n",
       "7     11562  \n",
       "8   1982433  \n",
       "9    253910  \n",
       "10  1264854  \n",
       "11  1041778  \n",
       "12   307482  \n",
       "13   473219  \n",
       "14   441343  \n",
       "15  4029446  \n",
       "16  6736389  \n",
       "17    29074  \n",
       "18    11415  \n",
       "19  1052071  \n",
       "20  8070258  \n",
       "21   139502  \n",
       "22    96134  \n",
       "23   235179  \n",
       "24    35866  \n",
       "25  1322183  \n",
       "26   172049  \n",
       "27   779165  \n",
       "28  1300640  \n",
       "29    43053  \n",
       "30  3558029  \n",
       "31   828911  \n",
       "32   107574  \n",
       "33  2113178  \n",
       "34   446178  \n",
       "35  2102008  "
      ]
     },
     "execution_count": 68,
     "metadata": {},
     "output_type": "execute_result"
    }
   ],
   "source": [
    "data=response.json()\n",
    "df=pd.json_normalize(data['states'])\n",
    "fig = px.scatter(df, x=\"deaths\",y=\"cases\",size=\"deaths\", color=\"state\",log_x=True, size_max=60)\n",
    "fig.show()\n",
    "df"
   ]
  }
 ],
 "metadata": {
  "kernelspec": {
   "display_name": "Python 3 (ipykernel)",
   "language": "python",
   "name": "python3"
  },
  "language_info": {
   "codemirror_mode": {
    "name": "ipython",
    "version": 3
   },
   "file_extension": ".py",
   "mimetype": "text/x-python",
   "name": "python",
   "nbconvert_exporter": "python",
   "pygments_lexer": "ipython3",
   "version": "3.9.7"
  }
 },
 "nbformat": 4,
 "nbformat_minor": 5
}
